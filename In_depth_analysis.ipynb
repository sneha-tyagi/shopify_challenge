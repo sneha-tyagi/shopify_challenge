{
 "cells": [
  {
   "cell_type": "markdown",
   "id": "ff9aea38",
   "metadata": {},
   "source": [
    "# Average Order Value\n",
    "\n",
    "What is AOV?\n",
    "> \"average amount of money each customer spends per transaction with your store\"\n",
    "\n",
    "Customizing it to better understand our data.\n"
   ]
  },
  {
   "cell_type": "code",
   "execution_count": 6,
   "id": "bc4db28a",
   "metadata": {},
   "outputs": [],
   "source": [
    "import pandas as pd\n",
    "import numpy as np"
   ]
  },
  {
   "cell_type": "code",
   "execution_count": 3,
   "id": "444ae5cd",
   "metadata": {},
   "outputs": [],
   "source": [
    "df = pd.read_csv(\"sales.csv\", index_col='order_id')"
   ]
  },
  {
   "cell_type": "code",
   "execution_count": 4,
   "id": "1115013f",
   "metadata": {},
   "outputs": [
    {
     "data": {
      "text/html": [
       "<div>\n",
       "<style scoped>\n",
       "    .dataframe tbody tr th:only-of-type {\n",
       "        vertical-align: middle;\n",
       "    }\n",
       "\n",
       "    .dataframe tbody tr th {\n",
       "        vertical-align: top;\n",
       "    }\n",
       "\n",
       "    .dataframe thead th {\n",
       "        text-align: right;\n",
       "    }\n",
       "</style>\n",
       "<table border=\"1\" class=\"dataframe\">\n",
       "  <thead>\n",
       "    <tr style=\"text-align: right;\">\n",
       "      <th></th>\n",
       "      <th>shop_id</th>\n",
       "      <th>user_id</th>\n",
       "      <th>order_amount</th>\n",
       "      <th>total_items</th>\n",
       "      <th>payment_method</th>\n",
       "      <th>created_at</th>\n",
       "    </tr>\n",
       "    <tr>\n",
       "      <th>order_id</th>\n",
       "      <th></th>\n",
       "      <th></th>\n",
       "      <th></th>\n",
       "      <th></th>\n",
       "      <th></th>\n",
       "      <th></th>\n",
       "    </tr>\n",
       "  </thead>\n",
       "  <tbody>\n",
       "    <tr>\n",
       "      <th>1</th>\n",
       "      <td>53</td>\n",
       "      <td>746</td>\n",
       "      <td>224</td>\n",
       "      <td>2</td>\n",
       "      <td>cash</td>\n",
       "      <td>2017-03-13 12:36:56</td>\n",
       "    </tr>\n",
       "    <tr>\n",
       "      <th>2</th>\n",
       "      <td>92</td>\n",
       "      <td>925</td>\n",
       "      <td>90</td>\n",
       "      <td>1</td>\n",
       "      <td>cash</td>\n",
       "      <td>2017-03-03 17:38:52</td>\n",
       "    </tr>\n",
       "    <tr>\n",
       "      <th>3</th>\n",
       "      <td>44</td>\n",
       "      <td>861</td>\n",
       "      <td>144</td>\n",
       "      <td>1</td>\n",
       "      <td>cash</td>\n",
       "      <td>2017-03-14 4:23:56</td>\n",
       "    </tr>\n",
       "    <tr>\n",
       "      <th>4</th>\n",
       "      <td>18</td>\n",
       "      <td>935</td>\n",
       "      <td>156</td>\n",
       "      <td>1</td>\n",
       "      <td>credit_card</td>\n",
       "      <td>2017-03-26 12:43:37</td>\n",
       "    </tr>\n",
       "    <tr>\n",
       "      <th>5</th>\n",
       "      <td>18</td>\n",
       "      <td>883</td>\n",
       "      <td>156</td>\n",
       "      <td>1</td>\n",
       "      <td>credit_card</td>\n",
       "      <td>2017-03-01 4:35:11</td>\n",
       "    </tr>\n",
       "  </tbody>\n",
       "</table>\n",
       "</div>"
      ],
      "text/plain": [
       "          shop_id  user_id  order_amount  total_items payment_method  \\\n",
       "order_id                                                               \n",
       "1              53      746           224            2           cash   \n",
       "2              92      925            90            1           cash   \n",
       "3              44      861           144            1           cash   \n",
       "4              18      935           156            1    credit_card   \n",
       "5              18      883           156            1    credit_card   \n",
       "\n",
       "                   created_at  \n",
       "order_id                       \n",
       "1         2017-03-13 12:36:56  \n",
       "2         2017-03-03 17:38:52  \n",
       "3          2017-03-14 4:23:56  \n",
       "4         2017-03-26 12:43:37  \n",
       "5          2017-03-01 4:35:11  "
      ]
     },
     "execution_count": 4,
     "metadata": {},
     "output_type": "execute_result"
    }
   ],
   "source": [
    "df.head()"
   ]
  },
  {
   "cell_type": "code",
   "execution_count": 5,
   "id": "66dacb6d",
   "metadata": {},
   "outputs": [
    {
     "data": {
      "text/plain": [
       "count      5000.000000\n",
       "mean       3145.128000\n",
       "std       41282.539349\n",
       "min          90.000000\n",
       "25%         163.000000\n",
       "50%         284.000000\n",
       "75%         390.000000\n",
       "max      704000.000000\n",
       "Name: order_amount, dtype: float64"
      ]
     },
     "execution_count": 5,
     "metadata": {},
     "output_type": "execute_result"
    }
   ],
   "source": [
    "df['order_amount'].describe()"
   ]
  },
  {
   "cell_type": "markdown",
   "id": "454efb27",
   "metadata": {},
   "source": [
    "The mean is 3145.128, min value is 90, 75th percentile is 390 and max value is 704000.\n",
    "\n",
    "75% being 390 implies that 75 percent our data points are less than 390.\n",
    "\n",
    "You see mean is very misleading as its neither representing the 75% of our data, nor the maximum value."
   ]
  },
  {
   "cell_type": "code",
   "execution_count": 9,
   "id": "33526a4d",
   "metadata": {},
   "outputs": [
    {
     "data": {
      "text/plain": [
       "90.0"
      ]
     },
     "execution_count": 9,
     "metadata": {},
     "output_type": "execute_result"
    }
   ],
   "source": [
    "np.percentile(df['order_amount'], 0)"
   ]
  },
  {
   "cell_type": "code",
   "execution_count": 14,
   "id": "fa9cdd27",
   "metadata": {},
   "outputs": [
    {
     "data": {
      "text/plain": [
       "800.0799999999981"
      ]
     },
     "execution_count": 14,
     "metadata": {},
     "output_type": "execute_result"
    }
   ],
   "source": [
    "np.percentile(df['order_amount'], 98)"
   ]
  },
  {
   "cell_type": "markdown",
   "id": "f483be12",
   "metadata": {},
   "source": [
    "98th percentile is 800 and mean is higher than this too. so, mean line would fall above 98% of our values. \n",
    "\n",
    "WHY IS THIS SO ?\n",
    "\n",
    "There could be two reasons according to me :\n",
    "\n",
    "1. Large Outliers skewing the mean to a much higher value that it loses its meaning with respect to our data.\n",
    "\n",
    "2. Above, the mean is being calculated by simply dividing the sum of all the orders' total by the number of orders without taking into account the fact that each order has different quantities being ordered. How can we compare two things that are not in the same units? \n",
    "\n",
    "I'll explain both the cases in detail in later sections of the notebook."
   ]
  },
  {
   "cell_type": "markdown",
   "id": "0df47ce0",
   "metadata": {},
   "source": [
    "# Outliers\n",
    "\n",
    "The statistical description of 75th and 98th percetile made it clear that there are definitely some very large values that are affecting the mean value so much. \n",
    "\n",
    "We'll plot a histogram to visualize the outliers"
   ]
  },
  {
   "cell_type": "code",
   "execution_count": 32,
   "id": "bf25c514",
   "metadata": {},
   "outputs": [
    {
     "data": {
      "image/png": "[encoded data removed]",
      "text/plain": [
       "<Figure size 432x288 with 1 Axes>"
      ]
     },
     "metadata": {
      "needs_background": "light"
     },
     "output_type": "display_data"
    }
   ],
   "source": [
    "import matplotlib.pyplot as plt\n",
    "ax = df.order_amount.plot(kind='hist');\n",
    "plt.xlabel('Order Total')\n",
    "plt.show()"
   ]
  },
  {
   "cell_type": "markdown",
   "id": "269d4f93",
   "metadata": {},
   "source": [
    "Above histogram shows a <b>Positively Skewed Dataset</b> showing that most of the data is concentrated on the left portion whereas the long tail represents the outliers.\n",
    "\n",
    "## Dealing with the Outliers - Naive WAY :)\n",
    "\n",
    "<b>We're just discarding the Outliers.</b> (Don't do this blindly please)"
   ]
  },
  {
   "cell_type": "code",
   "execution_count": 33,
   "id": "8ddc35c1",
   "metadata": {},
   "outputs": [
    {
     "data": {
      "text/html": [
       "<div>\n",
       "<style scoped>\n",
       "    .dataframe tbody tr th:only-of-type {\n",
       "        vertical-align: middle;\n",
       "    }\n",
       "\n",
       "    .dataframe tbody tr th {\n",
       "        vertical-align: top;\n",
       "    }\n",
       "\n",
       "    .dataframe thead th {\n",
       "        text-align: right;\n",
       "    }\n",
       "</style>\n",
       "<table border=\"1\" class=\"dataframe\">\n",
       "  <thead>\n",
       "    <tr style=\"text-align: right;\">\n",
       "      <th></th>\n",
       "      <th>shop_id</th>\n",
       "      <th>user_id</th>\n",
       "      <th>order_amount</th>\n",
       "      <th>total_items</th>\n",
       "      <th>payment_method</th>\n",
       "      <th>created_at</th>\n",
       "    </tr>\n",
       "    <tr>\n",
       "      <th>order_id</th>\n",
       "      <th></th>\n",
       "      <th></th>\n",
       "      <th></th>\n",
       "      <th></th>\n",
       "      <th></th>\n",
       "      <th></th>\n",
       "    </tr>\n",
       "  </thead>\n",
       "  <tbody>\n",
       "    <tr>\n",
       "      <th>16</th>\n",
       "      <td>42</td>\n",
       "      <td>607</td>\n",
       "      <td>704000</td>\n",
       "      <td>2000</td>\n",
       "      <td>credit_card</td>\n",
       "      <td>2017-03-07 4:00:00</td>\n",
       "    </tr>\n",
       "    <tr>\n",
       "      <th>61</th>\n",
       "      <td>42</td>\n",
       "      <td>607</td>\n",
       "      <td>704000</td>\n",
       "      <td>2000</td>\n",
       "      <td>credit_card</td>\n",
       "      <td>2017-03-04 4:00:00</td>\n",
       "    </tr>\n",
       "    <tr>\n",
       "      <th>161</th>\n",
       "      <td>78</td>\n",
       "      <td>990</td>\n",
       "      <td>25725</td>\n",
       "      <td>1</td>\n",
       "      <td>credit_card</td>\n",
       "      <td>2017-03-12 5:56:57</td>\n",
       "    </tr>\n",
       "    <tr>\n",
       "      <th>491</th>\n",
       "      <td>78</td>\n",
       "      <td>936</td>\n",
       "      <td>51450</td>\n",
       "      <td>2</td>\n",
       "      <td>debit</td>\n",
       "      <td>2017-03-26 17:08:19</td>\n",
       "    </tr>\n",
       "    <tr>\n",
       "      <th>494</th>\n",
       "      <td>78</td>\n",
       "      <td>983</td>\n",
       "      <td>51450</td>\n",
       "      <td>2</td>\n",
       "      <td>cash</td>\n",
       "      <td>2017-03-16 21:39:35</td>\n",
       "    </tr>\n",
       "    <tr>\n",
       "      <th>512</th>\n",
       "      <td>78</td>\n",
       "      <td>967</td>\n",
       "      <td>51450</td>\n",
       "      <td>2</td>\n",
       "      <td>cash</td>\n",
       "      <td>2017-03-09 7:23:14</td>\n",
       "    </tr>\n",
       "    <tr>\n",
       "      <th>521</th>\n",
       "      <td>42</td>\n",
       "      <td>607</td>\n",
       "      <td>704000</td>\n",
       "      <td>2000</td>\n",
       "      <td>credit_card</td>\n",
       "      <td>2017-03-02 4:00:00</td>\n",
       "    </tr>\n",
       "    <tr>\n",
       "      <th>618</th>\n",
       "      <td>78</td>\n",
       "      <td>760</td>\n",
       "      <td>51450</td>\n",
       "      <td>2</td>\n",
       "      <td>cash</td>\n",
       "      <td>2017-03-18 11:18:42</td>\n",
       "    </tr>\n",
       "    <tr>\n",
       "      <th>692</th>\n",
       "      <td>78</td>\n",
       "      <td>878</td>\n",
       "      <td>154350</td>\n",
       "      <td>6</td>\n",
       "      <td>debit</td>\n",
       "      <td>2017-03-27 22:51:43</td>\n",
       "    </tr>\n",
       "    <tr>\n",
       "      <th>1057</th>\n",
       "      <td>78</td>\n",
       "      <td>800</td>\n",
       "      <td>25725</td>\n",
       "      <td>1</td>\n",
       "      <td>debit</td>\n",
       "      <td>2017-03-15 10:16:45</td>\n",
       "    </tr>\n",
       "    <tr>\n",
       "      <th>1105</th>\n",
       "      <td>42</td>\n",
       "      <td>607</td>\n",
       "      <td>704000</td>\n",
       "      <td>2000</td>\n",
       "      <td>credit_card</td>\n",
       "      <td>2017-03-24 4:00:00</td>\n",
       "    </tr>\n",
       "    <tr>\n",
       "      <th>1194</th>\n",
       "      <td>78</td>\n",
       "      <td>944</td>\n",
       "      <td>25725</td>\n",
       "      <td>1</td>\n",
       "      <td>debit</td>\n",
       "      <td>2017-03-16 16:38:26</td>\n",
       "    </tr>\n",
       "    <tr>\n",
       "      <th>1205</th>\n",
       "      <td>78</td>\n",
       "      <td>970</td>\n",
       "      <td>25725</td>\n",
       "      <td>1</td>\n",
       "      <td>credit_card</td>\n",
       "      <td>2017-03-17 22:32:21</td>\n",
       "    </tr>\n",
       "    <tr>\n",
       "      <th>1260</th>\n",
       "      <td>78</td>\n",
       "      <td>775</td>\n",
       "      <td>77175</td>\n",
       "      <td>3</td>\n",
       "      <td>credit_card</td>\n",
       "      <td>2017-03-27 9:27:20</td>\n",
       "    </tr>\n",
       "    <tr>\n",
       "      <th>1363</th>\n",
       "      <td>42</td>\n",
       "      <td>607</td>\n",
       "      <td>704000</td>\n",
       "      <td>2000</td>\n",
       "      <td>credit_card</td>\n",
       "      <td>2017-03-15 4:00:00</td>\n",
       "    </tr>\n",
       "    <tr>\n",
       "      <th>1385</th>\n",
       "      <td>78</td>\n",
       "      <td>867</td>\n",
       "      <td>25725</td>\n",
       "      <td>1</td>\n",
       "      <td>cash</td>\n",
       "      <td>2017-03-17 16:38:06</td>\n",
       "    </tr>\n",
       "    <tr>\n",
       "      <th>1420</th>\n",
       "      <td>78</td>\n",
       "      <td>912</td>\n",
       "      <td>25725</td>\n",
       "      <td>1</td>\n",
       "      <td>cash</td>\n",
       "      <td>2017-03-30 12:23:43</td>\n",
       "    </tr>\n",
       "    <tr>\n",
       "      <th>1437</th>\n",
       "      <td>42</td>\n",
       "      <td>607</td>\n",
       "      <td>704000</td>\n",
       "      <td>2000</td>\n",
       "      <td>credit_card</td>\n",
       "      <td>2017-03-11 4:00:00</td>\n",
       "    </tr>\n",
       "    <tr>\n",
       "      <th>1453</th>\n",
       "      <td>78</td>\n",
       "      <td>812</td>\n",
       "      <td>25725</td>\n",
       "      <td>1</td>\n",
       "      <td>credit_card</td>\n",
       "      <td>2017-03-17 18:09:54</td>\n",
       "    </tr>\n",
       "    <tr>\n",
       "      <th>1530</th>\n",
       "      <td>78</td>\n",
       "      <td>810</td>\n",
       "      <td>51450</td>\n",
       "      <td>2</td>\n",
       "      <td>cash</td>\n",
       "      <td>2017-03-29 7:12:01</td>\n",
       "    </tr>\n",
       "    <tr>\n",
       "      <th>1563</th>\n",
       "      <td>42</td>\n",
       "      <td>607</td>\n",
       "      <td>704000</td>\n",
       "      <td>2000</td>\n",
       "      <td>credit_card</td>\n",
       "      <td>2017-03-19 4:00:00</td>\n",
       "    </tr>\n",
       "    <tr>\n",
       "      <th>1603</th>\n",
       "      <td>42</td>\n",
       "      <td>607</td>\n",
       "      <td>704000</td>\n",
       "      <td>2000</td>\n",
       "      <td>credit_card</td>\n",
       "      <td>2017-03-17 4:00:00</td>\n",
       "    </tr>\n",
       "    <tr>\n",
       "      <th>2154</th>\n",
       "      <td>42</td>\n",
       "      <td>607</td>\n",
       "      <td>704000</td>\n",
       "      <td>2000</td>\n",
       "      <td>credit_card</td>\n",
       "      <td>2017-03-12 4:00:00</td>\n",
       "    </tr>\n",
       "    <tr>\n",
       "      <th>2271</th>\n",
       "      <td>78</td>\n",
       "      <td>855</td>\n",
       "      <td>25725</td>\n",
       "      <td>1</td>\n",
       "      <td>credit_card</td>\n",
       "      <td>2017-03-14 23:58:22</td>\n",
       "    </tr>\n",
       "    <tr>\n",
       "      <th>2298</th>\n",
       "      <td>42</td>\n",
       "      <td>607</td>\n",
       "      <td>704000</td>\n",
       "      <td>2000</td>\n",
       "      <td>credit_card</td>\n",
       "      <td>2017-03-07 4:00:00</td>\n",
       "    </tr>\n",
       "    <tr>\n",
       "      <th>2453</th>\n",
       "      <td>78</td>\n",
       "      <td>709</td>\n",
       "      <td>51450</td>\n",
       "      <td>2</td>\n",
       "      <td>cash</td>\n",
       "      <td>2017-03-27 11:04:04</td>\n",
       "    </tr>\n",
       "    <tr>\n",
       "      <th>2493</th>\n",
       "      <td>78</td>\n",
       "      <td>834</td>\n",
       "      <td>102900</td>\n",
       "      <td>4</td>\n",
       "      <td>debit</td>\n",
       "      <td>2017-03-04 4:37:34</td>\n",
       "    </tr>\n",
       "    <tr>\n",
       "      <th>2496</th>\n",
       "      <td>78</td>\n",
       "      <td>707</td>\n",
       "      <td>51450</td>\n",
       "      <td>2</td>\n",
       "      <td>cash</td>\n",
       "      <td>2017-03-26 4:38:52</td>\n",
       "    </tr>\n",
       "    <tr>\n",
       "      <th>2513</th>\n",
       "      <td>78</td>\n",
       "      <td>935</td>\n",
       "      <td>51450</td>\n",
       "      <td>2</td>\n",
       "      <td>debit</td>\n",
       "      <td>2017-03-18 18:57:13</td>\n",
       "    </tr>\n",
       "    <tr>\n",
       "      <th>2549</th>\n",
       "      <td>78</td>\n",
       "      <td>861</td>\n",
       "      <td>25725</td>\n",
       "      <td>1</td>\n",
       "      <td>cash</td>\n",
       "      <td>2017-03-17 19:36:00</td>\n",
       "    </tr>\n",
       "    <tr>\n",
       "      <th>...</th>\n",
       "      <td>...</td>\n",
       "      <td>...</td>\n",
       "      <td>...</td>\n",
       "      <td>...</td>\n",
       "      <td>...</td>\n",
       "      <td>...</td>\n",
       "    </tr>\n",
       "    <tr>\n",
       "      <th>2819</th>\n",
       "      <td>78</td>\n",
       "      <td>869</td>\n",
       "      <td>51450</td>\n",
       "      <td>2</td>\n",
       "      <td>debit</td>\n",
       "      <td>2017-03-17 6:25:51</td>\n",
       "    </tr>\n",
       "    <tr>\n",
       "      <th>2822</th>\n",
       "      <td>78</td>\n",
       "      <td>814</td>\n",
       "      <td>51450</td>\n",
       "      <td>2</td>\n",
       "      <td>cash</td>\n",
       "      <td>2017-03-02 17:13:25</td>\n",
       "    </tr>\n",
       "    <tr>\n",
       "      <th>2836</th>\n",
       "      <td>42</td>\n",
       "      <td>607</td>\n",
       "      <td>704000</td>\n",
       "      <td>2000</td>\n",
       "      <td>credit_card</td>\n",
       "      <td>2017-03-28 4:00:00</td>\n",
       "    </tr>\n",
       "    <tr>\n",
       "      <th>2907</th>\n",
       "      <td>78</td>\n",
       "      <td>817</td>\n",
       "      <td>77175</td>\n",
       "      <td>3</td>\n",
       "      <td>debit</td>\n",
       "      <td>2017-03-16 3:45:46</td>\n",
       "    </tr>\n",
       "    <tr>\n",
       "      <th>2923</th>\n",
       "      <td>78</td>\n",
       "      <td>740</td>\n",
       "      <td>25725</td>\n",
       "      <td>1</td>\n",
       "      <td>debit</td>\n",
       "      <td>2017-03-12 20:10:58</td>\n",
       "    </tr>\n",
       "    <tr>\n",
       "      <th>2970</th>\n",
       "      <td>42</td>\n",
       "      <td>607</td>\n",
       "      <td>704000</td>\n",
       "      <td>2000</td>\n",
       "      <td>credit_card</td>\n",
       "      <td>2017-03-28 4:00:00</td>\n",
       "    </tr>\n",
       "    <tr>\n",
       "      <th>3086</th>\n",
       "      <td>78</td>\n",
       "      <td>910</td>\n",
       "      <td>25725</td>\n",
       "      <td>1</td>\n",
       "      <td>cash</td>\n",
       "      <td>2017-03-26 1:59:27</td>\n",
       "    </tr>\n",
       "    <tr>\n",
       "      <th>3102</th>\n",
       "      <td>78</td>\n",
       "      <td>855</td>\n",
       "      <td>51450</td>\n",
       "      <td>2</td>\n",
       "      <td>credit_card</td>\n",
       "      <td>2017-03-21 5:10:34</td>\n",
       "    </tr>\n",
       "    <tr>\n",
       "      <th>3152</th>\n",
       "      <td>78</td>\n",
       "      <td>745</td>\n",
       "      <td>25725</td>\n",
       "      <td>1</td>\n",
       "      <td>credit_card</td>\n",
       "      <td>2017-03-18 13:13:07</td>\n",
       "    </tr>\n",
       "    <tr>\n",
       "      <th>3168</th>\n",
       "      <td>78</td>\n",
       "      <td>927</td>\n",
       "      <td>51450</td>\n",
       "      <td>2</td>\n",
       "      <td>cash</td>\n",
       "      <td>2017-03-12 12:23:08</td>\n",
       "    </tr>\n",
       "    <tr>\n",
       "      <th>3333</th>\n",
       "      <td>42</td>\n",
       "      <td>607</td>\n",
       "      <td>704000</td>\n",
       "      <td>2000</td>\n",
       "      <td>credit_card</td>\n",
       "      <td>2017-03-24 4:00:00</td>\n",
       "    </tr>\n",
       "    <tr>\n",
       "      <th>3404</th>\n",
       "      <td>78</td>\n",
       "      <td>928</td>\n",
       "      <td>77175</td>\n",
       "      <td>3</td>\n",
       "      <td>debit</td>\n",
       "      <td>2017-03-16 9:45:05</td>\n",
       "    </tr>\n",
       "    <tr>\n",
       "      <th>3441</th>\n",
       "      <td>78</td>\n",
       "      <td>982</td>\n",
       "      <td>25725</td>\n",
       "      <td>1</td>\n",
       "      <td>debit</td>\n",
       "      <td>2017-03-19 19:02:54</td>\n",
       "    </tr>\n",
       "    <tr>\n",
       "      <th>3706</th>\n",
       "      <td>78</td>\n",
       "      <td>828</td>\n",
       "      <td>51450</td>\n",
       "      <td>2</td>\n",
       "      <td>credit_card</td>\n",
       "      <td>2017-03-14 20:43:15</td>\n",
       "    </tr>\n",
       "    <tr>\n",
       "      <th>3725</th>\n",
       "      <td>78</td>\n",
       "      <td>766</td>\n",
       "      <td>77175</td>\n",
       "      <td>3</td>\n",
       "      <td>credit_card</td>\n",
       "      <td>2017-03-16 14:13:26</td>\n",
       "    </tr>\n",
       "    <tr>\n",
       "      <th>3781</th>\n",
       "      <td>78</td>\n",
       "      <td>889</td>\n",
       "      <td>25725</td>\n",
       "      <td>1</td>\n",
       "      <td>cash</td>\n",
       "      <td>2017-03-11 21:14:50</td>\n",
       "    </tr>\n",
       "    <tr>\n",
       "      <th>4041</th>\n",
       "      <td>78</td>\n",
       "      <td>852</td>\n",
       "      <td>25725</td>\n",
       "      <td>1</td>\n",
       "      <td>cash</td>\n",
       "      <td>2017-03-02 14:31:12</td>\n",
       "    </tr>\n",
       "    <tr>\n",
       "      <th>4057</th>\n",
       "      <td>42</td>\n",
       "      <td>607</td>\n",
       "      <td>704000</td>\n",
       "      <td>2000</td>\n",
       "      <td>credit_card</td>\n",
       "      <td>2017-03-28 4:00:00</td>\n",
       "    </tr>\n",
       "    <tr>\n",
       "      <th>4080</th>\n",
       "      <td>78</td>\n",
       "      <td>946</td>\n",
       "      <td>51450</td>\n",
       "      <td>2</td>\n",
       "      <td>cash</td>\n",
       "      <td>2017-03-20 21:14:00</td>\n",
       "    </tr>\n",
       "    <tr>\n",
       "      <th>4193</th>\n",
       "      <td>78</td>\n",
       "      <td>787</td>\n",
       "      <td>77175</td>\n",
       "      <td>3</td>\n",
       "      <td>credit_card</td>\n",
       "      <td>2017-03-18 9:25:32</td>\n",
       "    </tr>\n",
       "    <tr>\n",
       "      <th>4312</th>\n",
       "      <td>78</td>\n",
       "      <td>960</td>\n",
       "      <td>51450</td>\n",
       "      <td>2</td>\n",
       "      <td>debit</td>\n",
       "      <td>2017-03-01 3:02:10</td>\n",
       "    </tr>\n",
       "    <tr>\n",
       "      <th>4413</th>\n",
       "      <td>78</td>\n",
       "      <td>756</td>\n",
       "      <td>51450</td>\n",
       "      <td>2</td>\n",
       "      <td>debit</td>\n",
       "      <td>2017-03-02 4:13:39</td>\n",
       "    </tr>\n",
       "    <tr>\n",
       "      <th>4421</th>\n",
       "      <td>78</td>\n",
       "      <td>969</td>\n",
       "      <td>77175</td>\n",
       "      <td>3</td>\n",
       "      <td>debit</td>\n",
       "      <td>2017-03-09 15:21:35</td>\n",
       "    </tr>\n",
       "    <tr>\n",
       "      <th>4506</th>\n",
       "      <td>78</td>\n",
       "      <td>866</td>\n",
       "      <td>25725</td>\n",
       "      <td>1</td>\n",
       "      <td>debit</td>\n",
       "      <td>2017-03-22 22:06:01</td>\n",
       "    </tr>\n",
       "    <tr>\n",
       "      <th>4585</th>\n",
       "      <td>78</td>\n",
       "      <td>997</td>\n",
       "      <td>25725</td>\n",
       "      <td>1</td>\n",
       "      <td>cash</td>\n",
       "      <td>2017-03-25 21:48:44</td>\n",
       "    </tr>\n",
       "    <tr>\n",
       "      <th>4647</th>\n",
       "      <td>42</td>\n",
       "      <td>607</td>\n",
       "      <td>704000</td>\n",
       "      <td>2000</td>\n",
       "      <td>credit_card</td>\n",
       "      <td>2017-03-02 4:00:00</td>\n",
       "    </tr>\n",
       "    <tr>\n",
       "      <th>4716</th>\n",
       "      <td>78</td>\n",
       "      <td>818</td>\n",
       "      <td>77175</td>\n",
       "      <td>3</td>\n",
       "      <td>debit</td>\n",
       "      <td>2017-03-05 5:10:44</td>\n",
       "    </tr>\n",
       "    <tr>\n",
       "      <th>4869</th>\n",
       "      <td>42</td>\n",
       "      <td>607</td>\n",
       "      <td>704000</td>\n",
       "      <td>2000</td>\n",
       "      <td>credit_card</td>\n",
       "      <td>2017-03-22 4:00:00</td>\n",
       "    </tr>\n",
       "    <tr>\n",
       "      <th>4883</th>\n",
       "      <td>42</td>\n",
       "      <td>607</td>\n",
       "      <td>704000</td>\n",
       "      <td>2000</td>\n",
       "      <td>credit_card</td>\n",
       "      <td>2017-03-25 4:00:00</td>\n",
       "    </tr>\n",
       "    <tr>\n",
       "      <th>4919</th>\n",
       "      <td>78</td>\n",
       "      <td>823</td>\n",
       "      <td>25725</td>\n",
       "      <td>1</td>\n",
       "      <td>cash</td>\n",
       "      <td>2017-03-15 13:26:46</td>\n",
       "    </tr>\n",
       "  </tbody>\n",
       "</table>\n",
       "<p>63 rows × 6 columns</p>\n",
       "</div>"
      ],
      "text/plain": [
       "          shop_id  user_id  order_amount  total_items payment_method  \\\n",
       "order_id                                                               \n",
       "16             42      607        704000         2000    credit_card   \n",
       "61             42      607        704000         2000    credit_card   \n",
       "161            78      990         25725            1    credit_card   \n",
       "491            78      936         51450            2          debit   \n",
       "494            78      983         51450            2           cash   \n",
       "512            78      967         51450            2           cash   \n",
       "521            42      607        704000         2000    credit_card   \n",
       "618            78      760         51450            2           cash   \n",
       "692            78      878        154350            6          debit   \n",
       "1057           78      800         25725            1          debit   \n",
       "1105           42      607        704000         2000    credit_card   \n",
       "1194           78      944         25725            1          debit   \n",
       "1205           78      970         25725            1    credit_card   \n",
       "1260           78      775         77175            3    credit_card   \n",
       "1363           42      607        704000         2000    credit_card   \n",
       "1385           78      867         25725            1           cash   \n",
       "1420           78      912         25725            1           cash   \n",
       "1437           42      607        704000         2000    credit_card   \n",
       "1453           78      812         25725            1    credit_card   \n",
       "1530           78      810         51450            2           cash   \n",
       "1563           42      607        704000         2000    credit_card   \n",
       "1603           42      607        704000         2000    credit_card   \n",
       "2154           42      607        704000         2000    credit_card   \n",
       "2271           78      855         25725            1    credit_card   \n",
       "2298           42      607        704000         2000    credit_card   \n",
       "2453           78      709         51450            2           cash   \n",
       "2493           78      834        102900            4          debit   \n",
       "2496           78      707         51450            2           cash   \n",
       "2513           78      935         51450            2          debit   \n",
       "2549           78      861         25725            1           cash   \n",
       "...           ...      ...           ...          ...            ...   \n",
       "2819           78      869         51450            2          debit   \n",
       "2822           78      814         51450            2           cash   \n",
       "2836           42      607        704000         2000    credit_card   \n",
       "2907           78      817         77175            3          debit   \n",
       "2923           78      740         25725            1          debit   \n",
       "2970           42      607        704000         2000    credit_card   \n",
       "3086           78      910         25725            1           cash   \n",
       "3102           78      855         51450            2    credit_card   \n",
       "3152           78      745         25725            1    credit_card   \n",
       "3168           78      927         51450            2           cash   \n",
       "3333           42      607        704000         2000    credit_card   \n",
       "3404           78      928         77175            3          debit   \n",
       "3441           78      982         25725            1          debit   \n",
       "3706           78      828         51450            2    credit_card   \n",
       "3725           78      766         77175            3    credit_card   \n",
       "3781           78      889         25725            1           cash   \n",
       "4041           78      852         25725            1           cash   \n",
       "4057           42      607        704000         2000    credit_card   \n",
       "4080           78      946         51450            2           cash   \n",
       "4193           78      787         77175            3    credit_card   \n",
       "4312           78      960         51450            2          debit   \n",
       "4413           78      756         51450            2          debit   \n",
       "4421           78      969         77175            3          debit   \n",
       "4506           78      866         25725            1          debit   \n",
       "4585           78      997         25725            1           cash   \n",
       "4647           42      607        704000         2000    credit_card   \n",
       "4716           78      818         77175            3          debit   \n",
       "4869           42      607        704000         2000    credit_card   \n",
       "4883           42      607        704000         2000    credit_card   \n",
       "4919           78      823         25725            1           cash   \n",
       "\n",
       "                   created_at  \n",
       "order_id                       \n",
       "16         2017-03-07 4:00:00  \n",
       "61         2017-03-04 4:00:00  \n",
       "161        2017-03-12 5:56:57  \n",
       "491       2017-03-26 17:08:19  \n",
       "494       2017-03-16 21:39:35  \n",
       "512        2017-03-09 7:23:14  \n",
       "521        2017-03-02 4:00:00  \n",
       "618       2017-03-18 11:18:42  \n",
       "692       2017-03-27 22:51:43  \n",
       "1057      2017-03-15 10:16:45  \n",
       "1105       2017-03-24 4:00:00  \n",
       "1194      2017-03-16 16:38:26  \n",
       "1205      2017-03-17 22:32:21  \n",
       "1260       2017-03-27 9:27:20  \n",
       "1363       2017-03-15 4:00:00  \n",
       "1385      2017-03-17 16:38:06  \n",
       "1420      2017-03-30 12:23:43  \n",
       "1437       2017-03-11 4:00:00  \n",
       "1453      2017-03-17 18:09:54  \n",
       "1530       2017-03-29 7:12:01  \n",
       "1563       2017-03-19 4:00:00  \n",
       "1603       2017-03-17 4:00:00  \n",
       "2154       2017-03-12 4:00:00  \n",
       "2271      2017-03-14 23:58:22  \n",
       "2298       2017-03-07 4:00:00  \n",
       "2453      2017-03-27 11:04:04  \n",
       "2493       2017-03-04 4:37:34  \n",
       "2496       2017-03-26 4:38:52  \n",
       "2513      2017-03-18 18:57:13  \n",
       "2549      2017-03-17 19:36:00  \n",
       "...                       ...  \n",
       "2819       2017-03-17 6:25:51  \n",
       "2822      2017-03-02 17:13:25  \n",
       "2836       2017-03-28 4:00:00  \n",
       "2907       2017-03-16 3:45:46  \n",
       "2923      2017-03-12 20:10:58  \n",
       "2970       2017-03-28 4:00:00  \n",
       "3086       2017-03-26 1:59:27  \n",
       "3102       2017-03-21 5:10:34  \n",
       "3152      2017-03-18 13:13:07  \n",
       "3168      2017-03-12 12:23:08  \n",
       "3333       2017-03-24 4:00:00  \n",
       "3404       2017-03-16 9:45:05  \n",
       "3441      2017-03-19 19:02:54  \n",
       "3706      2017-03-14 20:43:15  \n",
       "3725      2017-03-16 14:13:26  \n",
       "3781      2017-03-11 21:14:50  \n",
       "4041      2017-03-02 14:31:12  \n",
       "4057       2017-03-28 4:00:00  \n",
       "4080      2017-03-20 21:14:00  \n",
       "4193       2017-03-18 9:25:32  \n",
       "4312       2017-03-01 3:02:10  \n",
       "4413       2017-03-02 4:13:39  \n",
       "4421      2017-03-09 15:21:35  \n",
       "4506      2017-03-22 22:06:01  \n",
       "4585      2017-03-25 21:48:44  \n",
       "4647       2017-03-02 4:00:00  \n",
       "4716       2017-03-05 5:10:44  \n",
       "4869       2017-03-22 4:00:00  \n",
       "4883       2017-03-25 4:00:00  \n",
       "4919      2017-03-15 13:26:46  \n",
       "\n",
       "[63 rows x 6 columns]"
      ]
     },
     "execution_count": 33,
     "metadata": {},
     "output_type": "execute_result"
    }
   ],
   "source": [
    "# lets see outliers by printing values greater than 2000\n",
    "\n",
    "df[df['order_amount']>2000]"
   ]
  },
  {
   "cell_type": "code",
   "execution_count": 51,
   "id": "82b6cdbd",
   "metadata": {},
   "outputs": [
    {
     "data": {
      "text/plain": [
       "302.58051448247926"
      ]
     },
     "execution_count": 51,
     "metadata": {},
     "output_type": "execute_result"
    }
   ],
   "source": [
    "# Calculating mean of order amount less than $2000\n",
    "\n",
    "df[df['order_amount']<2000]['order_amount'].mean()"
   ]
  },
  {
   "cell_type": "code",
   "execution_count": 52,
   "id": "14b89efc",
   "metadata": {},
   "outputs": [
    {
     "data": {
      "text/plain": [
       "284.0"
      ]
     },
     "execution_count": 52,
     "metadata": {},
     "output_type": "execute_result"
    }
   ],
   "source": [
    "np.percentile(df['order_amount'],50)"
   ]
  },
  {
   "cell_type": "markdown",
   "id": "f9074b9c",
   "metadata": {},
   "source": [
    "Calculating the mean without those 63 outliers took its value down to 302 which is very close to the 50th percentile, which should ideally be the case.\n",
    "\n",
    "But that's not the solution, right? \n",
    "> It's taking out a lot of meaning from our dataset as those 63 values are from two customers only, if you notice. The two customers have frequently placed orders of huge amounts over the last month. Discarding this data would mean losing info that is important, not only for telling the story about this month but also for predicting the AOV in future months.\n",
    "\n",
    "## Dealing with Outliers in a better way\n",
    "\n",
    "<b> Finding shop-wise AOV including the outliers :)\n"
   ]
  },
  {
   "cell_type": "code",
   "execution_count": 59,
   "id": "589e09ac",
   "metadata": {},
   "outputs": [
    {
     "data": {
      "image/png": "[encoded data removed]",
      "text/plain": [
       "<Figure size 864x432 with 1 Axes>"
      ]
     },
     "metadata": {
      "needs_background": "light"
     },
     "output_type": "display_data"
    }
   ],
   "source": [
    "df.groupby(['shop_id'])['order_amount'].mean().plot(figsize=(12,6));\n"
   ]
  },
  {
   "cell_type": "code",
   "execution_count": 73,
   "id": "68b15fe6",
   "metadata": {},
   "outputs": [
    {
     "data": {
      "text/plain": [
       "shop_id\n",
       "1    308.818182\n",
       "2    174.327273\n",
       "3    305.250000\n",
       "4    258.509804\n",
       "5    290.311111\n",
       "6    383.508475\n",
       "7    218.000000\n",
       "8    241.043478\n",
       "Name: order_amount, dtype: float64"
      ]
     },
     "execution_count": 73,
     "metadata": {},
     "output_type": "execute_result"
    }
   ],
   "source": [
    "df.groupby(['shop_id'])['order_amount'].mean().head(8)"
   ]
  },
  {
   "cell_type": "markdown",
   "id": "bafa0a74",
   "metadata": {},
   "source": [
    "What we conclude from this?\n",
    "\n",
    "1. Only two shops [42, 78] are having the large order amounts.\n",
    "2. Rest all shops have values near 300 only.\n",
    "\n",
    "> Shop-wise AOV gives us an insight about the average order amount over each shop."
   ]
  },
  {
   "cell_type": "markdown",
   "id": "5212ebfa",
   "metadata": {},
   "source": [
    "# Changing Metric used for Analysis\n",
    "\n",
    "Instead of an average of order-value, we'll go for other metrics like :\n",
    "\n",
    "1. Average number of items bought per order\n",
    "\n",
    "2. Average value of each item bought from all the data combined\n",
    "\n",
    "3. Number of orders placed on each shop\n",
    " "
   ]
  },
  {
   "cell_type": "markdown",
   "id": "9bfb4c3e",
   "metadata": {},
   "source": [
    "1) Average number of items bought per order\n",
    "\n",
    "Calculate mean of 'total_items' column to get how many items were ordered in one order."
   ]
  },
  {
   "cell_type": "code",
   "execution_count": 67,
   "id": "8a4e0ce2",
   "metadata": {},
   "outputs": [
    {
     "data": {
      "text/plain": [
       "8.7872"
      ]
     },
     "execution_count": 67,
     "metadata": {},
     "output_type": "execute_result"
    }
   ],
   "source": [
    "df['total_items'].mean()\n",
    "\n",
    "#On an average, each order had approx. 9 items [not very true]"
   ]
  },
  {
   "cell_type": "markdown",
   "id": "97708840",
   "metadata": {},
   "source": [
    "2) Average value of each item bought \n",
    "\n",
    "Make a new column with 'order_amount' divded by 'total_items' so that the value scales down to single unit's price in an order.\n",
    "\n",
    "Take average of that column"
   ]
  },
  {
   "cell_type": "code",
   "execution_count": 68,
   "id": "341091d1",
   "metadata": {},
   "outputs": [],
   "source": [
    "df['new_col'] = df['order_amount']/df['total_items']"
   ]
  },
  {
   "cell_type": "code",
   "execution_count": 69,
   "id": "1d0ec7a0",
   "metadata": {},
   "outputs": [
    {
     "data": {
      "text/html": [
       "<div>\n",
       "<style scoped>\n",
       "    .dataframe tbody tr th:only-of-type {\n",
       "        vertical-align: middle;\n",
       "    }\n",
       "\n",
       "    .dataframe tbody tr th {\n",
       "        vertical-align: top;\n",
       "    }\n",
       "\n",
       "    .dataframe thead th {\n",
       "        text-align: right;\n",
       "    }\n",
       "</style>\n",
       "<table border=\"1\" class=\"dataframe\">\n",
       "  <thead>\n",
       "    <tr style=\"text-align: right;\">\n",
       "      <th></th>\n",
       "      <th>shop_id</th>\n",
       "      <th>user_id</th>\n",
       "      <th>order_amount</th>\n",
       "      <th>total_items</th>\n",
       "      <th>payment_method</th>\n",
       "      <th>created_at</th>\n",
       "      <th>order_norm</th>\n",
       "      <th>new_col</th>\n",
       "    </tr>\n",
       "    <tr>\n",
       "      <th>order_id</th>\n",
       "      <th></th>\n",
       "      <th></th>\n",
       "      <th></th>\n",
       "      <th></th>\n",
       "      <th></th>\n",
       "      <th></th>\n",
       "      <th></th>\n",
       "      <th></th>\n",
       "    </tr>\n",
       "  </thead>\n",
       "  <tbody>\n",
       "    <tr>\n",
       "      <th>1</th>\n",
       "      <td>53</td>\n",
       "      <td>746</td>\n",
       "      <td>224</td>\n",
       "      <td>2</td>\n",
       "      <td>cash</td>\n",
       "      <td>2017-03-13 12:36:56</td>\n",
       "      <td>112.0</td>\n",
       "      <td>112.0</td>\n",
       "    </tr>\n",
       "    <tr>\n",
       "      <th>2</th>\n",
       "      <td>92</td>\n",
       "      <td>925</td>\n",
       "      <td>90</td>\n",
       "      <td>1</td>\n",
       "      <td>cash</td>\n",
       "      <td>2017-03-03 17:38:52</td>\n",
       "      <td>90.0</td>\n",
       "      <td>90.0</td>\n",
       "    </tr>\n",
       "    <tr>\n",
       "      <th>3</th>\n",
       "      <td>44</td>\n",
       "      <td>861</td>\n",
       "      <td>144</td>\n",
       "      <td>1</td>\n",
       "      <td>cash</td>\n",
       "      <td>2017-03-14 4:23:56</td>\n",
       "      <td>144.0</td>\n",
       "      <td>144.0</td>\n",
       "    </tr>\n",
       "    <tr>\n",
       "      <th>4</th>\n",
       "      <td>18</td>\n",
       "      <td>935</td>\n",
       "      <td>156</td>\n",
       "      <td>1</td>\n",
       "      <td>credit_card</td>\n",
       "      <td>2017-03-26 12:43:37</td>\n",
       "      <td>156.0</td>\n",
       "      <td>156.0</td>\n",
       "    </tr>\n",
       "    <tr>\n",
       "      <th>5</th>\n",
       "      <td>18</td>\n",
       "      <td>883</td>\n",
       "      <td>156</td>\n",
       "      <td>1</td>\n",
       "      <td>credit_card</td>\n",
       "      <td>2017-03-01 4:35:11</td>\n",
       "      <td>156.0</td>\n",
       "      <td>156.0</td>\n",
       "    </tr>\n",
       "  </tbody>\n",
       "</table>\n",
       "</div>"
      ],
      "text/plain": [
       "          shop_id  user_id  order_amount  total_items payment_method  \\\n",
       "order_id                                                               \n",
       "1              53      746           224            2           cash   \n",
       "2              92      925            90            1           cash   \n",
       "3              44      861           144            1           cash   \n",
       "4              18      935           156            1    credit_card   \n",
       "5              18      883           156            1    credit_card   \n",
       "\n",
       "                   created_at  order_norm  new_col  \n",
       "order_id                                            \n",
       "1         2017-03-13 12:36:56       112.0    112.0  \n",
       "2         2017-03-03 17:38:52        90.0     90.0  \n",
       "3          2017-03-14 4:23:56       144.0    144.0  \n",
       "4         2017-03-26 12:43:37       156.0    156.0  \n",
       "5          2017-03-01 4:35:11       156.0    156.0  "
      ]
     },
     "execution_count": 69,
     "metadata": {},
     "output_type": "execute_result"
    }
   ],
   "source": [
    "df.head()"
   ]
  },
  {
   "cell_type": "code",
   "execution_count": 71,
   "id": "e18d46fb",
   "metadata": {},
   "outputs": [
    {
     "data": {
      "text/plain": [
       "387.7428"
      ]
     },
     "execution_count": 71,
     "metadata": {},
     "output_type": "execute_result"
    }
   ],
   "source": [
    "df['new_col'].mean()\n",
    "\n",
    "# The average price of each item that was bought from any of the stores"
   ]
  },
  {
   "cell_type": "markdown",
   "id": "1b3864ea",
   "metadata": {},
   "source": [
    "3) Number of Orders placed on each shop"
   ]
  },
  {
   "cell_type": "code",
   "execution_count": 88,
   "id": "a23756d2",
   "metadata": {},
   "outputs": [
    {
     "data": {
      "text/plain": [
       "53    68\n",
       "71    66\n",
       "19    64\n",
       "13    63\n",
       "89    61\n",
       "69    60\n",
       "59    60\n",
       "9     59\n",
       "Name: shop_id, dtype: int64"
      ]
     },
     "execution_count": 88,
     "metadata": {},
     "output_type": "execute_result"
    }
   ],
   "source": [
    "df['shop_id'].value_counts().head(8)"
   ]
  },
  {
   "cell_type": "markdown",
   "id": "bb5ea3d1",
   "metadata": {},
   "source": [
    "# Final Metric (A combination of above metrics)\n",
    "\n",
    "\" For each shop, calculate the Average price of each item being bought and the total no. of items sold from that shop \"\n",
    "\n",
    "Why?\n",
    "\n",
    "1.Segreagating by Shop_id is done because the Outliers are from two shops only : 42 & 78. This way their values won't skew the metric being used and we won't lose any useful information too (that would have happened if we had just discarded them).\n",
    "<br>\n",
    "2.When we scale done to single unit for each order, all the data comes on to the same scale and hence comparisons become relevant. Like comparing of avg. price of each item being bought on Shop 1 to Shop 99.\n",
    "<br>\n",
    "\n",
    "Now a question might be there in your mind,\n",
    "\"When you're using Average Price of each item and No. of items sold together, why not directly use Average Order Value? \n",
    "Coz Avg order value = Avg. price of 1 item * No. of items sold\"\n",
    "\n",
    "The issue with average order value is that it can be misleading at times. How? See below"
   ]
  },
  {
   "cell_type": "code",
   "execution_count": 93,
   "id": "311a0dd2",
   "metadata": {},
   "outputs": [],
   "source": [
    "# a series of average order values for each shop\n",
    "\n",
    "ss = df.groupby(['shop_id'])['order_amount'].mean()"
   ]
  },
  {
   "cell_type": "code",
   "execution_count": 100,
   "id": "cb238035",
   "metadata": {},
   "outputs": [
    {
     "data": {
      "text/plain": [
       "shop_id\n",
       "92    162.857143\n",
       "Name: order_amount, dtype: float64"
      ]
     },
     "execution_count": 100,
     "metadata": {},
     "output_type": "execute_result"
    }
   ],
   "source": [
    "ss.sort_values().head(1)"
   ]
  },
  {
   "cell_type": "code",
   "execution_count": 112,
   "id": "893dbd35",
   "metadata": {},
   "outputs": [
    {
     "data": {
      "text/plain": [
       "shop_id\n",
       "78     49213.043478\n",
       "42    235101.490196\n",
       "Name: order_amount, dtype: float64"
      ]
     },
     "execution_count": 112,
     "metadata": {},
     "output_type": "execute_result"
    }
   ],
   "source": [
    "ss.sort_values().tail(2)"
   ]
  },
  {
   "cell_type": "markdown",
   "id": "bbd52b7d",
   "metadata": {},
   "source": [
    "Here, Shop 92 has min avg order value while Shop 42 has maximum and Shop 78 the second maximum.\n",
    "\n",
    "Now, lets look at the number of items that these stores sold."
   ]
  },
  {
   "cell_type": "code",
   "execution_count": 110,
   "id": "2e43f4c3",
   "metadata": {},
   "outputs": [
    {
     "data": {
      "text/plain": [
       "34063"
      ]
     },
     "execution_count": 110,
     "metadata": {},
     "output_type": "execute_result"
    }
   ],
   "source": [
    "df[ df['shop_id']== 42]['total_items'].sum()"
   ]
  },
  {
   "cell_type": "code",
   "execution_count": 111,
   "id": "bb73abe0",
   "metadata": {},
   "outputs": [
    {
     "data": {
      "text/plain": [
       "76"
      ]
     },
     "execution_count": 111,
     "metadata": {},
     "output_type": "execute_result"
    }
   ],
   "source": [
    "df[ df['shop_id']== 92]['total_items'].sum()"
   ]
  },
  {
   "cell_type": "code",
   "execution_count": 113,
   "id": "22bcc55c",
   "metadata": {},
   "outputs": [
    {
     "data": {
      "text/plain": [
       "88"
      ]
     },
     "execution_count": 113,
     "metadata": {},
     "output_type": "execute_result"
    }
   ],
   "source": [
    "df[ df['shop_id']== 78]['total_items'].sum()"
   ]
  },
  {
   "cell_type": "markdown",
   "id": "15d3a168",
   "metadata": {},
   "source": [
    "You see :\n",
    "    Shop 42 : high AOV, high number of total items sold\n",
    "    Shop 92 : low AOV, lower number of items sold\n",
    "    Shop 78 : high AOV , less no of total items sold\n",
    "    \n",
    "   So only looking at the AOV for each shop, you'll think that Shop 78 is selling a lot of shoes but that's not true. It's selling expensive ones, but its overall sales are low.\n",
    "   \n",
    "Now, \n",
    "> we've seen how AOV can be misleading at times, but if you break it into its components : Avg per item and Total Items bought, and use their combination as a metric, it could give you better insights, I believe."
   ]
  },
  {
   "cell_type": "code",
   "execution_count": 115,
   "id": "b0043b1e",
   "metadata": {},
   "outputs": [],
   "source": [
    "df.drop(['order_norm','new_col'], axis=1, inplace=True)  "
   ]
  },
  {
   "cell_type": "code",
   "execution_count": 119,
   "id": "564e9829",
   "metadata": {},
   "outputs": [],
   "source": [
    "# for each order, price of one item\n",
    "\n",
    "df['avg_per_item'] = df['order_amount']/df['total_items']"
   ]
  },
  {
   "cell_type": "code",
   "execution_count": 133,
   "id": "3bb5b846",
   "metadata": {},
   "outputs": [],
   "source": [
    "# for each shop, avg. price of each item sold\n",
    "a = df.groupby(['shop_id'])['avg_per_item'].mean()"
   ]
  },
  {
   "cell_type": "code",
   "execution_count": 134,
   "id": "f1e07ac5",
   "metadata": {
    "scrolled": true
   },
   "outputs": [
    {
     "data": {
      "text/plain": [
       "shop_id\n",
       "1    158.0\n",
       "2     94.0\n",
       "3    148.0\n",
       "4    128.0\n",
       "5    142.0\n",
       "Name: avg_per_item, dtype: float64"
      ]
     },
     "execution_count": 134,
     "metadata": {},
     "output_type": "execute_result"
    }
   ],
   "source": [
    "a.head()"
   ]
  },
  {
   "cell_type": "code",
   "execution_count": 135,
   "id": "392cf87e",
   "metadata": {},
   "outputs": [],
   "source": [
    "# for each shop, total number of items sold from it\n",
    "b = df.groupby(['shop_id'])['total_items'].sum()"
   ]
  },
  {
   "cell_type": "code",
   "execution_count": 137,
   "id": "84e9390b",
   "metadata": {},
   "outputs": [
    {
     "data": {
      "text/plain": [
       "shop_id\n",
       "1     86\n",
       "2    102\n",
       "3     99\n",
       "4    103\n",
       "5     92\n",
       "Name: total_items, dtype: int64"
      ]
     },
     "execution_count": 137,
     "metadata": {},
     "output_type": "execute_result"
    }
   ],
   "source": [
    "b.head()"
   ]
  },
  {
   "cell_type": "code",
   "execution_count": 139,
   "id": "d6a376b2",
   "metadata": {},
   "outputs": [],
   "source": [
    "newdf = pd.concat([a,b], axis=1)"
   ]
  },
  {
   "cell_type": "code",
   "execution_count": 140,
   "id": "b97f8d6c",
   "metadata": {
    "scrolled": true
   },
   "outputs": [
    {
     "data": {
      "text/html": [
       "<div>\n",
       "<style scoped>\n",
       "    .dataframe tbody tr th:only-of-type {\n",
       "        vertical-align: middle;\n",
       "    }\n",
       "\n",
       "    .dataframe tbody tr th {\n",
       "        vertical-align: top;\n",
       "    }\n",
       "\n",
       "    .dataframe thead th {\n",
       "        text-align: right;\n",
       "    }\n",
       "</style>\n",
       "<table border=\"1\" class=\"dataframe\">\n",
       "  <thead>\n",
       "    <tr style=\"text-align: right;\">\n",
       "      <th></th>\n",
       "      <th>avg_per_item</th>\n",
       "      <th>total_items</th>\n",
       "    </tr>\n",
       "    <tr>\n",
       "      <th>shop_id</th>\n",
       "      <th></th>\n",
       "      <th></th>\n",
       "    </tr>\n",
       "  </thead>\n",
       "  <tbody>\n",
       "    <tr>\n",
       "      <th>1</th>\n",
       "      <td>158.0</td>\n",
       "      <td>86</td>\n",
       "    </tr>\n",
       "    <tr>\n",
       "      <th>2</th>\n",
       "      <td>94.0</td>\n",
       "      <td>102</td>\n",
       "    </tr>\n",
       "    <tr>\n",
       "      <th>3</th>\n",
       "      <td>148.0</td>\n",
       "      <td>99</td>\n",
       "    </tr>\n",
       "    <tr>\n",
       "      <th>4</th>\n",
       "      <td>128.0</td>\n",
       "      <td>103</td>\n",
       "    </tr>\n",
       "    <tr>\n",
       "      <th>5</th>\n",
       "      <td>142.0</td>\n",
       "      <td>92</td>\n",
       "    </tr>\n",
       "    <tr>\n",
       "      <th>6</th>\n",
       "      <td>187.0</td>\n",
       "      <td>121</td>\n",
       "    </tr>\n",
       "    <tr>\n",
       "      <th>7</th>\n",
       "      <td>112.0</td>\n",
       "      <td>109</td>\n",
       "    </tr>\n",
       "    <tr>\n",
       "      <th>8</th>\n",
       "      <td>132.0</td>\n",
       "      <td>84</td>\n",
       "    </tr>\n",
       "    <tr>\n",
       "      <th>9</th>\n",
       "      <td>118.0</td>\n",
       "      <td>117</td>\n",
       "    </tr>\n",
       "    <tr>\n",
       "      <th>10</th>\n",
       "      <td>148.0</td>\n",
       "      <td>119</td>\n",
       "    </tr>\n",
       "  </tbody>\n",
       "</table>\n",
       "</div>"
      ],
      "text/plain": [
       "         avg_per_item  total_items\n",
       "shop_id                           \n",
       "1               158.0           86\n",
       "2                94.0          102\n",
       "3               148.0           99\n",
       "4               128.0          103\n",
       "5               142.0           92\n",
       "6               187.0          121\n",
       "7               112.0          109\n",
       "8               132.0           84\n",
       "9               118.0          117\n",
       "10              148.0          119"
      ]
     },
     "execution_count": 140,
     "metadata": {},
     "output_type": "execute_result"
    }
   ],
   "source": [
    "newdf.head(10)"
   ]
  },
  {
   "cell_type": "code",
   "execution_count": 145,
   "id": "edc9175a",
   "metadata": {},
   "outputs": [
    {
     "data": {
      "text/plain": [
       "avg_per_item      352.0\n",
       "total_items     34063.0\n",
       "Name: 42, dtype: float64"
      ]
     },
     "execution_count": 145,
     "metadata": {},
     "output_type": "execute_result"
    }
   ],
   "source": [
    "newdf.iloc[41]   # shop 42"
   ]
  },
  {
   "cell_type": "code",
   "execution_count": 146,
   "id": "96ff43a6",
   "metadata": {},
   "outputs": [
    {
     "data": {
      "text/plain": [
       "avg_per_item    25725.0\n",
       "total_items        88.0\n",
       "Name: 78, dtype: float64"
      ]
     },
     "execution_count": 146,
     "metadata": {},
     "output_type": "execute_result"
    }
   ],
   "source": [
    "newdf.iloc[77]   #shop 78"
   ]
  },
  {
   "cell_type": "code",
   "execution_count": 147,
   "id": "a16911b6",
   "metadata": {},
   "outputs": [
    {
     "data": {
      "text/plain": [
       "avg_per_item    90.0\n",
       "total_items     76.0\n",
       "Name: 92, dtype: float64"
      ]
     },
     "execution_count": 147,
     "metadata": {},
     "output_type": "execute_result"
    }
   ],
   "source": [
    "newdf.iloc[91]  #shop 92"
   ]
  },
  {
   "cell_type": "markdown",
   "id": "5d0eeafa",
   "metadata": {},
   "source": [
    "If total sales in each shop = Revenue generated by that shop. Let's add a third Revenue column to our new_df to make it even more informative about each shop.\n",
    "\n",
    "[Revenue is same as the shop-wise AOV though, which alone is not very informative]\n",
    "\n",
    "Note: You could also add Avg. Customer Lifetime in each shop, equal to the AVG. number of times a customer has ordered from the shop."
   ]
  },
  {
   "cell_type": "code",
   "execution_count": 150,
   "id": "bf19e7be",
   "metadata": {},
   "outputs": [],
   "source": [
    "newdf['revenue_generated'] = newdf['avg_per_item'] * newdf['total_items']"
   ]
  },
  {
   "cell_type": "code",
   "execution_count": 154,
   "id": "437c11bd",
   "metadata": {},
   "outputs": [
    {
     "data": {
      "text/html": [
       "<div>\n",
       "<style scoped>\n",
       "    .dataframe tbody tr th:only-of-type {\n",
       "        vertical-align: middle;\n",
       "    }\n",
       "\n",
       "    .dataframe tbody tr th {\n",
       "        vertical-align: top;\n",
       "    }\n",
       "\n",
       "    .dataframe thead th {\n",
       "        text-align: right;\n",
       "    }\n",
       "</style>\n",
       "<table border=\"1\" class=\"dataframe\">\n",
       "  <thead>\n",
       "    <tr style=\"text-align: right;\">\n",
       "      <th></th>\n",
       "      <th>avg_per_item</th>\n",
       "      <th>total_items</th>\n",
       "      <th>revenue_generated</th>\n",
       "    </tr>\n",
       "    <tr>\n",
       "      <th>shop_id</th>\n",
       "      <th></th>\n",
       "      <th></th>\n",
       "      <th></th>\n",
       "    </tr>\n",
       "  </thead>\n",
       "  <tbody>\n",
       "    <tr>\n",
       "      <th>1</th>\n",
       "      <td>158.0</td>\n",
       "      <td>86</td>\n",
       "      <td>13588.0</td>\n",
       "    </tr>\n",
       "    <tr>\n",
       "      <th>2</th>\n",
       "      <td>94.0</td>\n",
       "      <td>102</td>\n",
       "      <td>9588.0</td>\n",
       "    </tr>\n",
       "    <tr>\n",
       "      <th>3</th>\n",
       "      <td>148.0</td>\n",
       "      <td>99</td>\n",
       "      <td>14652.0</td>\n",
       "    </tr>\n",
       "    <tr>\n",
       "      <th>4</th>\n",
       "      <td>128.0</td>\n",
       "      <td>103</td>\n",
       "      <td>13184.0</td>\n",
       "    </tr>\n",
       "    <tr>\n",
       "      <th>5</th>\n",
       "      <td>142.0</td>\n",
       "      <td>92</td>\n",
       "      <td>13064.0</td>\n",
       "    </tr>\n",
       "  </tbody>\n",
       "</table>\n",
       "</div>"
      ],
      "text/plain": [
       "         avg_per_item  total_items  revenue_generated\n",
       "shop_id                                              \n",
       "1               158.0           86            13588.0\n",
       "2                94.0          102             9588.0\n",
       "3               148.0           99            14652.0\n",
       "4               128.0          103            13184.0\n",
       "5               142.0           92            13064.0"
      ]
     },
     "execution_count": 154,
     "metadata": {},
     "output_type": "execute_result"
    }
   ],
   "source": [
    "newdf.head()"
   ]
  },
  {
   "cell_type": "markdown",
   "id": "3c8b4f64",
   "metadata": {},
   "source": [
    "# My Concluding Thoughts\n",
    "\n",
    "Although, I went through a lot of methods above, I'd still say that one can't discard any of the methods above. Because each metric conveys its own story, and that story might be irrelevant as per one use-case but that doesn't imply that the metric being used is useless or bad. Metrics depend not only on the use-case but also on the data that you're using. Sometimes you'll need to bring all the rows down to a single scale and sometimes the best option would be to remove the outlier, you can never say for sure. In my understanding the important thing is to understand the data you've, what is the goal of your analysis and then decide what's the best metric for you. \n",
    "\n",
    "I also tried to do some time-series analysis here, but to make the series regular, I converted it to daily orders data. So I was just left with 30 values, one for each day's order average. It felt less relevant to the question, so I didn't do it further.  But, if it is relevant, I'd love to understand how. "
   ]
  }
 ],
 "metadata": {
  "kernelspec": {
   "display_name": "Python 3",
   "language": "python",
   "name": "python3"
  },
  "language_info": {
   "codemirror_mode": {
    "name": "ipython",
    "version": 3
   },
   "file_extension": ".py",
   "mimetype": "text/x-python",
   "name": "python",
   "nbconvert_exporter": "python",
   "pygments_lexer": "ipython3",
   "version": "3.7.2"
  }
 },
 "nbformat": 4,
 "nbformat_minor": 5
}
